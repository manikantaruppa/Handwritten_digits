{
  "nbformat": 4,
  "nbformat_minor": 0,
  "metadata": {
    "colab": {
      "name": "handwritten_digit_using_neural_network .ipynb",
      "provenance": []
    },
    "kernelspec": {
      "name": "python3",
      "display_name": "Python 3"
    }
  },
  "cells": [
    {
      "cell_type": "code",
      "metadata": {
        "id": "A5yO7b-Lq2JQ"
      },
      "source": [
        "import tensorflow as tf\n",
        "from tensorflow import keras\n",
        "import numpy as np\n",
        "import matplotlib.pyplot as plt"
      ],
      "execution_count": 2,
      "outputs": []
    },
    {
      "cell_type": "code",
      "metadata": {
        "colab": {
          "base_uri": "https://localhost:8080/"
        },
        "id": "eW6VtZ6RrXcd",
        "outputId": "4142d1f5-e60e-4205-8d21-350e0d3ce116"
      },
      "source": [
        "(x_train,y_train),(x_test,y_test)=keras.datasets.mnist.load_data()"
      ],
      "execution_count": 3,
      "outputs": [
        {
          "output_type": "stream",
          "text": [
            "Downloading data from https://storage.googleapis.com/tensorflow/tf-keras-datasets/mnist.npz\n",
            "11493376/11490434 [==============================] - 0s 0us/step\n"
          ],
          "name": "stdout"
        }
      ]
    },
    {
      "cell_type": "code",
      "metadata": {
        "id": "wmIjXHVXsD-o",
        "colab": {
          "base_uri": "https://localhost:8080/",
          "height": 292
        },
        "outputId": "fc035eb8-ac59-4b0c-c3ca-438b8662fedb"
      },
      "source": [
        "plt.matshow(x_train[2])"
      ],
      "execution_count": 4,
      "outputs": [
        {
          "output_type": "execute_result",
          "data": {
            "text/plain": [
              "<matplotlib.image.AxesImage at 0x7f373356f050>"
            ]
          },
          "metadata": {
            "tags": []
          },
          "execution_count": 4
        },
        {
          "output_type": "display_data",
          "data": {
            "image/png": "[encoded data removed]",
            "text/plain": [
              "<Figure size 288x288 with 1 Axes>"
            ]
          },
          "metadata": {
            "tags": [],
            "needs_background": "light"
          }
        }
      ]
    },
    {
      "cell_type": "code",
      "metadata": {
        "colab": {
          "base_uri": "https://localhost:8080/"
        },
        "id": "lJiuZnPIpdX6",
        "outputId": "6f6ec81d-c369-4036-8c93-445d9d62cac1"
      },
      "source": [
        "y_train[2]"
      ],
      "execution_count": 5,
      "outputs": [
        {
          "output_type": "execute_result",
          "data": {
            "text/plain": [
              "4"
            ]
          },
          "metadata": {
            "tags": []
          },
          "execution_count": 5
        }
      ]
    },
    {
      "cell_type": "code",
      "metadata": {
        "colab": {
          "base_uri": "https://localhost:8080/"
        },
        "id": "2jcE_GULqwng",
        "outputId": "cbb1a38e-d910-4d03-eb00-fad13989072a"
      },
      "source": [
        "x_train.shape"
      ],
      "execution_count": 6,
      "outputs": [
        {
          "output_type": "execute_result",
          "data": {
            "text/plain": [
              "(60000, 28, 28)"
            ]
          },
          "metadata": {
            "tags": []
          },
          "execution_count": 6
        }
      ]
    },
    {
      "cell_type": "code",
      "metadata": {
        "colab": {
          "base_uri": "https://localhost:8080/"
        },
        "id": "lJLkJk9Ht6Z4",
        "outputId": "773e889b-994c-4114-f2b9-709fde8752fd"
      },
      "source": [
        "x_test.shape"
      ],
      "execution_count": 7,
      "outputs": [
        {
          "output_type": "execute_result",
          "data": {
            "text/plain": [
              "(10000, 28, 28)"
            ]
          },
          "metadata": {
            "tags": []
          },
          "execution_count": 7
        }
      ]
    },
    {
      "cell_type": "code",
      "metadata": {
        "id": "J7B_3dgG2v1r"
      },
      "source": [
        "x_train=x_train/255\n",
        "x_test=x_test/255"
      ],
      "execution_count": 8,
      "outputs": []
    },
    {
      "cell_type": "code",
      "metadata": {
        "colab": {
          "base_uri": "https://localhost:8080/"
        },
        "id": "FWWp7ErHrJMN",
        "outputId": "ff6839d6-97e9-4519-c275-168682e93001"
      },
      "source": [
        "x_train_flatten= x_train.reshape(len(x_train),28*28)\n",
        "x_train_flatten.shape"
      ],
      "execution_count": 9,
      "outputs": [
        {
          "output_type": "execute_result",
          "data": {
            "text/plain": [
              "(60000, 784)"
            ]
          },
          "metadata": {
            "tags": []
          },
          "execution_count": 9
        }
      ]
    },
    {
      "cell_type": "code",
      "metadata": {
        "colab": {
          "base_uri": "https://localhost:8080/"
        },
        "id": "wioP2ZKatYkt",
        "outputId": "d0699a20-3f29-45bd-b300-062d9639f416"
      },
      "source": [
        "x_test_flatten=x_test.reshape(len(x_test),28*28)\n",
        "x_test_flatten.shape"
      ],
      "execution_count": 10,
      "outputs": [
        {
          "output_type": "execute_result",
          "data": {
            "text/plain": [
              "(10000, 784)"
            ]
          },
          "metadata": {
            "tags": []
          },
          "execution_count": 10
        }
      ]
    },
    {
      "cell_type": "code",
      "metadata": {
        "colab": {
          "base_uri": "https://localhost:8080/"
        },
        "id": "RU6w0516tw7h",
        "outputId": "8c6ba39c-29f8-4b7d-a6e1-9cc66bea27f2"
      },
      "source": [
        "#building a simple neural network without hidden layers\n",
        "model=keras.Sequential([\n",
        "                        keras.layers.Dense(10, input_shape=(784,),activation='sigmoid')\n",
        "])\n",
        "model.compile(\n",
        "     optimizer='adam',\n",
        "     loss='sparse_categorical_crossentropy',\n",
        "     metrics=['accuracy']\n",
        ")\n",
        "model.fit(x_train_flatten,y_train,epochs=3)"
      ],
      "execution_count": 11,
      "outputs": [
        {
          "output_type": "stream",
          "text": [
            "Epoch 1/3\n",
            "1875/1875 [==============================] - 3s 1ms/step - loss: 0.4740 - accuracy: 0.8755\n",
            "Epoch 2/3\n",
            "1875/1875 [==============================] - 2s 1ms/step - loss: 0.3040 - accuracy: 0.9151\n",
            "Epoch 3/3\n",
            "1875/1875 [==============================] - 2s 1ms/step - loss: 0.2836 - accuracy: 0.9206\n"
          ],
          "name": "stdout"
        },
        {
          "output_type": "execute_result",
          "data": {
            "text/plain": [
              "<tensorflow.python.keras.callbacks.History at 0x7f3733054650>"
            ]
          },
          "metadata": {
            "tags": []
          },
          "execution_count": 11
        }
      ]
    },
    {
      "cell_type": "code",
      "metadata": {
        "colab": {
          "base_uri": "https://localhost:8080/"
        },
        "id": "piGl75cUzbVf",
        "outputId": "f2b3baee-7e93-4a8d-c457-4d6670f84ae9"
      },
      "source": [
        "model.evaluate(x_test_flatten,y_test)"
      ],
      "execution_count": 12,
      "outputs": [
        {
          "output_type": "stream",
          "text": [
            "313/313 [==============================] - 0s 1ms/step - loss: 0.2727 - accuracy: 0.9239\n"
          ],
          "name": "stdout"
        },
        {
          "output_type": "execute_result",
          "data": {
            "text/plain": [
              "[0.27274343371391296, 0.9239000082015991]"
            ]
          },
          "metadata": {
            "tags": []
          },
          "execution_count": 12
        }
      ]
    },
    {
      "cell_type": "code",
      "metadata": {
        "colab": {
          "base_uri": "https://localhost:8080/",
          "height": 292
        },
        "id": "WfImqVV43uVO",
        "outputId": "39264329-0cc4-460a-cb13-0b6999647c83"
      },
      "source": [
        "plt.matshow(x_test[10])"
      ],
      "execution_count": 13,
      "outputs": [
        {
          "output_type": "execute_result",
          "data": {
            "text/plain": [
              "<matplotlib.image.AxesImage at 0x7f372d0a56d0>"
            ]
          },
          "metadata": {
            "tags": []
          },
          "execution_count": 13
        },
        {
          "output_type": "display_data",
          "data": {
            "image/png": "[encoded data removed]",
            "text/plain": [
              "<Figure size 288x288 with 1 Axes>"
            ]
          },
          "metadata": {
            "tags": [],
            "needs_background": "light"
          }
        }
      ]
    },
    {
      "cell_type": "code",
      "metadata": {
        "colab": {
          "base_uri": "https://localhost:8080/"
        },
        "id": "uc0lc4GZ42md",
        "outputId": "536703d1-a507-491e-bef5-bf9c2bf230d4"
      },
      "source": [
        "y_pred= model.predict(x_test_flatten)\n",
        "y_pred[0]"
      ],
      "execution_count": 14,
      "outputs": [
        {
          "output_type": "execute_result",
          "data": {
            "text/plain": [
              "array([5.2662373e-02, 2.7267456e-06, 7.4841946e-02, 9.4312793e-01,\n",
              "       4.6336949e-03, 1.0305223e-01, 1.3038509e-05, 9.9972111e-01,\n",
              "       1.2526673e-01, 7.0957553e-01], dtype=float32)"
            ]
          },
          "metadata": {
            "tags": []
          },
          "execution_count": 14
        }
      ]
    },
    {
      "cell_type": "code",
      "metadata": {
        "colab": {
          "base_uri": "https://localhost:8080/"
        },
        "id": "X52e8nhh5Qa2",
        "outputId": "aecfcc0f-6750-42f3-8f39-73868fc1e1cb"
      },
      "source": [
        "np.argmax(y_pred[10])"
      ],
      "execution_count": 15,
      "outputs": [
        {
          "output_type": "execute_result",
          "data": {
            "text/plain": [
              "0"
            ]
          },
          "metadata": {
            "tags": []
          },
          "execution_count": 15
        }
      ]
    },
    {
      "cell_type": "code",
      "metadata": {
        "id": "8rugMQJY6Rok"
      },
      "source": [
        "y_pred_labels=  [ np.argmax(i) for i in y_pred]"
      ],
      "execution_count": 16,
      "outputs": []
    },
    {
      "cell_type": "code",
      "metadata": {
        "id": "fZHTkj3T5VpF"
      },
      "source": [
        "cm=tf.math.confusion_matrix(labels=y_test,predictions=y_pred_labels)"
      ],
      "execution_count": 17,
      "outputs": []
    },
    {
      "cell_type": "code",
      "metadata": {
        "colab": {
          "base_uri": "https://localhost:8080/",
          "height": 442
        },
        "id": "gLnIv0nd63Jk",
        "outputId": "68d2a051-4cee-486b-dced-e45354a9045a"
      },
      "source": [
        "import seaborn as sn\n",
        "plt.figure(figsize=(10,7))\n",
        "sn.heatmap(cm,annot=True, fmt='d')\n",
        "plt.xlabel('predicted')\n",
        "plt.ylabel('Truth')\n",
        "plt.show()"
      ],
      "execution_count": 23,
      "outputs": [
        {
          "output_type": "display_data",
          "data": {
            "image/png": "[encoded data removed]",
            "text/plain": [
              "<Figure size 720x504 with 2 Axes>"
            ]
          },
          "metadata": {
            "tags": [],
            "needs_background": "light"
          }
        }
      ]
    },
    {
      "cell_type": "code",
      "metadata": {
        "colab": {
          "base_uri": "https://localhost:8080/"
        },
        "id": "1K59NwYgeNbC",
        "outputId": "7edd1e6b-e33a-44ea-af97-695cf4b03008"
      },
      "source": [
        "#building a neural network with single hidden layer\n",
        "model=keras.Sequential([\n",
        "                        keras.layers.Dense(100, input_shape=(784,),activation='relu'),\n",
        "                         keras.layers.Dense(10, activation='sigmoid')\n",
        "])\n",
        "model.compile(\n",
        "     optimizer='adam',\n",
        "     loss='sparse_categorical_crossentropy',\n",
        "     metrics=['accuracy']\n",
        ")\n",
        "model.fit(x_train_flatten,y_train,epochs=3)"
      ],
      "execution_count": 29,
      "outputs": [
        {
          "output_type": "stream",
          "text": [
            "Epoch 1/3\n",
            "1875/1875 [==============================] - 4s 2ms/step - loss: 0.2743 - accuracy: 0.9219\n",
            "Epoch 2/3\n",
            "1875/1875 [==============================] - 3s 2ms/step - loss: 0.1244 - accuracy: 0.9632\n",
            "Epoch 3/3\n",
            "1875/1875 [==============================] - 3s 2ms/step - loss: 0.0850 - accuracy: 0.9750\n"
          ],
          "name": "stdout"
        },
        {
          "output_type": "execute_result",
          "data": {
            "text/plain": [
              "<tensorflow.python.keras.callbacks.History at 0x7f3719703590>"
            ]
          },
          "metadata": {
            "tags": []
          },
          "execution_count": 29
        }
      ]
    },
    {
      "cell_type": "code",
      "metadata": {
        "id": "rIz3CT_yf281"
      },
      "source": [
        ""
      ],
      "execution_count": null,
      "outputs": []
    }
  ]
}